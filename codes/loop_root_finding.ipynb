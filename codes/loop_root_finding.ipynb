{
 "cells": [
  {
   "cell_type": "code",
   "execution_count": 2,
   "metadata": {},
   "outputs": [
    {
     "name": "stdout",
     "output_type": "stream",
     "text": [
      "Enter an integer greater than one: s\n"
     ]
    },
    {
     "ename": "NameError",
     "evalue": "name 's' is not defined",
     "output_type": "error",
     "traceback": [
      "\u001b[0;31m---------------------------------------------------------------------------\u001b[0m",
      "\u001b[0;31mNameError\u001b[0m                                 Traceback (most recent call last)",
      "\u001b[0;32m<ipython-input-2-ee45de45432d>\u001b[0m in \u001b[0;36m<module>\u001b[0;34m()\u001b[0m\n\u001b[1;32m      4\u001b[0m \u001b[0;34m\u001b[0m\u001b[0m\n\u001b[1;32m      5\u001b[0m \u001b[0mn\u001b[0m \u001b[0;34m=\u001b[0m \u001b[0mraw_input\u001b[0m\u001b[0;34m(\u001b[0m\u001b[0;34m'Enter an integer greater than one: '\u001b[0m\u001b[0;34m)\u001b[0m\u001b[0;34m\u001b[0m\u001b[0m\n\u001b[0;32m----> 6\u001b[0;31m \u001b[0mn\u001b[0m \u001b[0;34m=\u001b[0m \u001b[0meval\u001b[0m\u001b[0;34m(\u001b[0m\u001b[0mn\u001b[0m\u001b[0;34m)\u001b[0m\u001b[0;34m\u001b[0m\u001b[0m\n\u001b[0m\u001b[1;32m      7\u001b[0m \u001b[0;32mif\u001b[0m \u001b[0mtype\u001b[0m\u001b[0;34m(\u001b[0m\u001b[0mn\u001b[0m\u001b[0;34m)\u001b[0m \u001b[0;34m!=\u001b[0m \u001b[0mint\u001b[0m\u001b[0;34m:\u001b[0m\u001b[0;34m\u001b[0m\u001b[0m\n\u001b[1;32m      8\u001b[0m     \u001b[0;32mprint\u001b[0m \u001b[0;34m'entered number must be an integer'\u001b[0m\u001b[0;34m\u001b[0m\u001b[0m\n",
      "\u001b[0;32m<string>\u001b[0m in \u001b[0;36m<module>\u001b[0;34m()\u001b[0m\n",
      "\u001b[0;31mNameError\u001b[0m: name 's' is not defined"
     ]
    }
   ],
   "source": [
    "## WHILE LOOPS\n",
    "\n",
    "# find if a number is prime\n",
    "\n",
    "n = raw_input('Enter an integer greater than one: ')\n",
    "n = eval(n)\n",
    "if type(n) != int:\n",
    "    print 'entered number must be an integer'\n",
    "elif n <= 1:\n",
    "    print 'entered number must be greater than one'"
   ]
  },
  {
   "cell_type": "code",
   "execution_count": 3,
   "metadata": {},
   "outputs": [
    {
     "name": "stdout",
     "output_type": "stream",
     "text": [
      "Enter an integer greater than one: s\n",
      "s before eval\n",
      "Wrong entry (NameError) ... try again\n",
      "Enter an integer greater than one: -3\n",
      "-3 before eval\n",
      "-3 after eval\n",
      "Wrong entry (not an integer greater than one) ... try again\n",
      "Enter an integer greater than one: 71\n",
      "71 before eval\n",
      "71 after eval\n",
      "Correct input\n"
     ]
    }
   ],
   "source": [
    "### error handling\n",
    "\n",
    "correctInput = False\n",
    "\n",
    "while not correctInput:\n",
    "    try:\n",
    "        raw_n = raw_input('Enter an integer greater than one: ')\n",
    "        print raw_n, 'before eval'\n",
    "        n = eval(raw_n)\n",
    "        print n, 'after eval'\n",
    "    except NameError:\n",
    "        print 'Wrong entry (NameError) ... try again'\n",
    "    except SyntaxError:\n",
    "        print 'Wrong entry (SyntaxError) ... try again'\n",
    "    except NotImplementedError:\n",
    "        print 'Wrong entry (NotImplementedError) ... try again'\n",
    "    else:\n",
    "        if type(n) != int or n <= 1:\n",
    "            print 'Wrong entry (not an integer greater than one) ... try again'\n",
    "        else:\n",
    "            print 'Correct input'\n",
    "            correctInput = True"
   ]
  },
  {
   "cell_type": "code",
   "execution_count": 4,
   "metadata": {},
   "outputs": [
    {
     "name": "stdout",
     "output_type": "stream",
     "text": [
      "The number 71 is Prime\n"
     ]
    }
   ],
   "source": [
    "# find if a number is prime or not\n",
    "\n",
    "isPrime = True\n",
    "\n",
    "divisor = 2\n",
    "\n",
    "while divisor < n:\n",
    "    if n % divisor == 0:\n",
    "        isPrime = False\n",
    "        print 'The number', n, 'is NOT Prime'\n",
    "        print divisor, 'divides it'\n",
    "        print n, '=', divisor, '*', n / divisor\n",
    "        break\n",
    "    divisor += 1\n",
    "\n",
    "if isPrime:\n",
    "    print 'The number', n, 'is Prime'"
   ]
  },
  {
   "cell_type": "code",
   "execution_count": 5,
   "metadata": {},
   "outputs": [
    {
     "name": "stdout",
     "output_type": "stream",
     "text": [
      "The number 71 is Prime\n"
     ]
    }
   ],
   "source": [
    "## FOR LOOPS\n",
    "\n",
    "for divisor in xrange(2,n):\n",
    "    if n % divisor == 0:\n",
    "        isPrime = False\n",
    "        print 'The number', n, 'is NOT Prime'\n",
    "        print divisor, 'divides it'\n",
    "        print n, '=', divisor, '*', n / divisor\n",
    "        break\n",
    "    \n",
    "if isPrime:\n",
    "    print 'The number', n, 'is Prime'"
   ]
  },
  {
   "cell_type": "code",
   "execution_count": 6,
   "metadata": {},
   "outputs": [
    {
     "name": "stdout",
     "output_type": "stream",
     "text": [
      "Enter a non-negative number: 2\n",
      "2 before eval\n",
      "2 after eval\n",
      "Correct input\n",
      "iteration 0 guess = 4.0 error = 14.0\n",
      "iteration 1 guess = 2.25 error = 3.0625\n",
      "iteration 2 guess = 1.56944444444 error = 0.463155864198\n",
      "iteration 3 guess = 1.42189036382 error = 0.0217722067104\n",
      "iteration 4 guess = 1.41423428594 error = 5.86155284292e-05\n",
      "iteration 5 guess = 1.41421356252 error = 4.29460023099e-10\n",
      "iteration 6 guess = 1.41421356237 error = 4.4408920985e-16\n",
      "Converged after 6 iterations\n",
      "Square root of 2 is 1.41421356237 with tolerance = 1e-10\n"
     ]
    }
   ],
   "source": [
    "#### square root finding for non-negative numbers\n",
    "\n",
    "# similar routine to ensure non-negative input\n",
    "\n",
    "correctInput = False\n",
    "\n",
    "while not correctInput:\n",
    "    try:\n",
    "        raw_n = raw_input('Enter a non-negative number: ')\n",
    "        print raw_n, 'before eval'\n",
    "        n = eval(raw_n)\n",
    "        print n, 'after eval'\n",
    "    except NameError:\n",
    "        print 'Wrong entry (NameError) ... try again'\n",
    "    except SyntaxError:\n",
    "        print 'Wrong entry (SyntaxError) ... try again'\n",
    "    except NotImplementedError:\n",
    "        print 'Wrong entry (NotImplementedError) ... try again'\n",
    "    else:\n",
    "        if (type(n) == int or type(n) == float) and n >= 0:\n",
    "            print 'Correct input'\n",
    "            correctInput = True\n",
    "        else:\n",
    "            print 'Wrong entry (either not int or float or a negative number) ... try again'\n",
    "\n",
    "rootValue = 4.0 # initialization\n",
    "error = abs(rootValue**2 - n)\n",
    "tolerance = 1e-10\n",
    "\n",
    "maxIterations = 5000\n",
    "iteration = 0\n",
    "\n",
    "print 'iteration', iteration, 'guess =', rootValue, 'error =', error\n",
    "\n",
    "while error > tolerance and iteration < maxIterations:\n",
    "    rootValue = 0.5 * (rootValue + n / rootValue)\n",
    "    error = abs(rootValue**2 - n)\n",
    "    iteration += 1\n",
    "    print 'iteration', iteration, 'guess =', rootValue, 'error =', error\n",
    "   \n",
    "if iteration >= maxIterations:\n",
    "    print 'Did not converge after', maxIterations, 'iterations'\n",
    "else:\n",
    "    print 'Converged after', iteration, 'iterations'\n",
    "    print 'Square root of', n, 'is', rootValue, 'with tolerance =', tolerance\n",
    "    \n",
    "# different initialization may lead to different solution"
   ]
  },
  {
   "cell_type": "code",
   "execution_count": 7,
   "metadata": {},
   "outputs": [
    {
     "name": "stdout",
     "output_type": "stream",
     "text": [
      "Enter a non-negative number: 2\n",
      "2 before eval\n",
      "2 after eval\n",
      "Correct input\n",
      "low = 0.000000 \t high = 2.000000 \t guess = 1.000000\n",
      "low = 1.000000 \t high = 2.000000 \t guess = 1.500000\n",
      "low = 1.000000 \t high = 1.500000 \t guess = 1.250000\n",
      "low = 1.250000 \t high = 1.500000 \t guess = 1.375000\n",
      "low = 1.250000 \t high = 1.375000 \t guess = 1.312500\n",
      "low = 1.250000 \t high = 1.312500 \t guess = 1.281250\n",
      "low = 1.250000 \t high = 1.281250 \t guess = 1.265625\n",
      "low = 1.250000 \t high = 1.265625 \t guess = 1.257812\n",
      "low = 1.257812 \t high = 1.265625 \t guess = 1.261719\n",
      "low = 1.257812 \t high = 1.261719 \t guess = 1.259766\n",
      "low = 1.259766 \t high = 1.261719 \t guess = 1.260742\n",
      "low = 1.259766 \t high = 1.260742 \t guess = 1.260254\n",
      "low = 1.259766 \t high = 1.260254 \t guess = 1.260010\n",
      "low = 1.259766 \t high = 1.260010 \t guess = 1.259888\n",
      "low = 1.259888 \t high = 1.260010 \t guess = 1.259949\n",
      "low = 1.259888 \t high = 1.259949 \t guess = 1.259918\n",
      "low = 1.259918 \t high = 1.259949 \t guess = 1.259933\n",
      "low = 1.259918 \t high = 1.259933 \t guess = 1.259926\n",
      "low = 1.259918 \t high = 1.259926 \t guess = 1.259922\n",
      "low = 1.259918 \t high = 1.259922 \t guess = 1.259920\n",
      "low = 1.259920 \t high = 1.259922 \t guess = 1.259921\n",
      "low = 1.259920 \t high = 1.259921 \t guess = 1.259921\n",
      "low = 1.259921 \t high = 1.259921 \t guess = 1.259921\n",
      "low = 1.259921 \t high = 1.259921 \t guess = 1.259921\n",
      "low = 1.259921 \t high = 1.259921 \t guess = 1.259921\n",
      "low = 1.259921 \t high = 1.259921 \t guess = 1.259921\n",
      "low = 1.259921 \t high = 1.259921 \t guess = 1.259921\n",
      "low = 1.259921 \t high = 1.259921 \t guess = 1.259921\n",
      "low = 1.259921 \t high = 1.259921 \t guess = 1.259921\n",
      "low = 1.259921 \t high = 1.259921 \t guess = 1.259921\n",
      "low = 1.259921 \t high = 1.259921 \t guess = 1.259921\n",
      "low = 1.259921 \t high = 1.259921 \t guess = 1.259921\n",
      "low = 1.259921 \t high = 1.259921 \t guess = 1.259921\n",
      "low = 1.259921 \t high = 1.259921 \t guess = 1.259921\n",
      "low = 1.259921 \t high = 1.259921 \t guess = 1.259921\n",
      "\n",
      "Number of iterations = 35\n",
      "1/3 power of 2 is 1.2599210499 with tolerance = 1e-10\n"
     ]
    }
   ],
   "source": [
    "## extension of the above idea to find any root\n",
    "\n",
    "correctInput = False\n",
    "\n",
    "while not correctInput:\n",
    "    try:\n",
    "        raw_n = raw_input('Enter a non-negative number: ')\n",
    "        print raw_n, 'before eval'\n",
    "        n = eval(raw_n)\n",
    "        print n, 'after eval'\n",
    "    except NameError:\n",
    "        print 'Wrong entry (NameError) ... try again'\n",
    "    except SyntaxError:\n",
    "        print 'Wrong entry (SyntaxError) ... try again'\n",
    "    except NotImplementedError:\n",
    "        print 'Wrong entry (NotImplementedError) ... try again'\n",
    "    else:\n",
    "        if (type(n) == int or type(n) == float) and n >= 0:\n",
    "            print 'Correct input'\n",
    "            correctInput = True\n",
    "        else:\n",
    "            print 'Wrong entry (either not int or float or a negative number) ... try again'\n",
    "\n",
    "## BISECTION SEARCH\n",
    "    \n",
    "root = 3 # this indicates what root we are interested in finding\n",
    "tolerance = 1e-10 # this is the accuracy level\n",
    "low = 0.0\n",
    "high = max(1,n) # is this correct?\n",
    "count = 0\n",
    "\n",
    "rootValue = (high + low) / 2 # the core of the bisection method\n",
    "deviation = abs(rootValue**root - n)\n",
    "\n",
    "while deviation > tolerance:\n",
    "    \n",
    "    print 'low = %.6f \\t high = %.6f \\t guess = %.6f' % (low, high, rootValue)\n",
    "    if rootValue**root > n:\n",
    "        high = rootValue\n",
    "    else:\n",
    "        low = rootValue\n",
    "        \n",
    "    rootValue = (high + low) / 2\n",
    "    deviation = abs(rootValue**root - n)\n",
    "    \n",
    "    count += 1\n",
    "    \n",
    "print '\\nNumber of iterations =', count\n",
    "print '1/'+ str(root) +' power of', n, 'is', rootValue, 'with tolerance =', tolerance\n",
    "\n",
    "# notice the number of iterations"
   ]
  },
  {
   "cell_type": "code",
   "execution_count": 3,
   "metadata": {},
   "outputs": [
    {
     "name": "stdout",
     "output_type": "stream",
     "text": [
      "guess = 1.000000 \t polynomial(1.000000) = 8.000000\n",
      "guess = 0.272727 \t polynomial(0.272727) = 3.606311\n",
      "guess = -1.078244 \t polynomial(-1.078244) = -2.917217\n",
      "guess = -0.844183 \t polynomial(-0.844183) = -0.493171\n",
      "guess = -0.785568 \t polynomial(-0.785568) = -0.025499\n",
      "guess = -0.782193 \t polynomial(-0.782193) = -0.000080\n",
      "guess = -0.782182 \t polynomial(-0.782182) = -0.000000\n",
      "\n",
      "root = -0.782182 \t polynomial(-0.782182) = 0.000000\n",
      "converged after 7 iterations\n"
     ]
    },
    {
     "data": {
      "image/png": "[encoded data removed]",
      "text/plain": [
       "<matplotlib.figure.Figure at 0x7f7ac18a2d90>"
      ]
     },
     "metadata": {},
     "output_type": "display_data"
    }
   ],
   "source": [
    "## a generalization of the Babylonian method\n",
    "## NEWTON-RAPHSON METHOD OF FINDING REAL ROOTS OF A POLYNOMIAL\n",
    "\n",
    "plotFlag = True\n",
    "\n",
    "if plotFlag:\n",
    "    import numpy as np\n",
    "    import matplotlib.pyplot as plt\n",
    "   \n",
    "    minXaxis = np.inf\n",
    "    maxXaxis = -np.inf\n",
    "    \n",
    "    plt.figure(figsize=(10, 8), dpi= 80)\n",
    "\n",
    "\n",
    "def polynomial(x):\n",
    "    return 3 * x**3 + 2 * x + 3\n",
    "#     return x**2 - 2\n",
    "   \n",
    "def diffpoly(x):\n",
    "    return 9 * x**2 + 2\n",
    "#     return 2 * x\n",
    "   \n",
    "initialGuess = 1.0\n",
    "maxIterations = 5000\n",
    "rootValue = initialGuess # initialization of the probable root\n",
    "tolerance = 1e-10\n",
    "count = 0\n",
    "\n",
    "deviation =  abs(polynomial(rootValue))\n",
    "\n",
    "while deviation > tolerance and count < maxIterations:\n",
    "    print 'guess = %.6f \\t polynomial(%.6f) = %.6f' % (rootValue, rootValue, polynomial(rootValue))\n",
    "    initialValue = polynomial(rootValue)\n",
    "    initialRoot = rootValue\n",
    "\n",
    "################ this block is for plotting the iterations   \n",
    "    if plotFlag:\n",
    "        if initialRoot > maxXaxis:\n",
    "            maxXaxis = initialRoot\n",
    "        if initialRoot < minXaxis:\n",
    "            minXaxis = initialRoot\n",
    "   \n",
    "        plt.plot([initialRoot, initialRoot], [0, initialValue], 'k--')\n",
    "###############################################################\n",
    "       \n",
    "    rootValue = rootValue - polynomial(rootValue) / diffpoly(rootValue)\n",
    "    deviation = abs(polynomial(rootValue))\n",
    "    count += 1\n",
    "\n",
    "################ this block is for plotting the iterations   \n",
    "    if plotFlag:\n",
    "        plt.plot([initialRoot, rootValue], [initialValue, 0], 'k--')\n",
    "###############################################################\n",
    "   \n",
    "if count >= maxIterations:\n",
    "    print 'NR method did not converge after', maxIterations, 'iterations'\n",
    "else:\n",
    "    print '\\nroot = %.6f \\t polynomial(%.6f) = %.6f' % (rootValue, rootValue, polynomial(rootValue))\n",
    "    print 'converged after', count, 'iterations'\n",
    "   \n",
    "   \n",
    "################ this block is for plotting the iterations  \n",
    "if plotFlag:\n",
    "    width = maxXaxis - minXaxis\n",
    "    x = np.linspace(minXaxis - 0.1*width, maxXaxis + 0.1*width, 1000)\n",
    "           \n",
    "    y = []\n",
    "    for i in x:\n",
    "        y.append(polynomial(i))\n",
    "       \n",
    "    plt.plot(x,y, label='Polynomial')\n",
    "    plt.plot(rootValue, polynomial(rootValue), 'r+', markeredgewidth=2, markersize=12)\n",
    "   \n",
    "    plt.grid()\n",
    "    plt.legend(loc='best')\n",
    "    plt.axis('tight')\n",
    "    plt.xlabel('x')\n",
    "    plt.ylabel('p(x)')\n",
    "    plt.show()"
   ]
  },
  {
   "cell_type": "code",
   "execution_count": null,
   "metadata": {},
   "outputs": [],
   "source": []
  }
 ],
 "metadata": {
  "kernelspec": {
   "display_name": "Python 2",
   "language": "python",
   "name": "python2"
  },
  "language_info": {
   "codemirror_mode": {
    "name": "ipython",
    "version": 2
   },
   "file_extension": ".py",
   "mimetype": "text/x-python",
   "name": "python",
   "nbconvert_exporter": "python",
   "pygments_lexer": "ipython2",
   "version": "2.7.12"
  }
 },
 "nbformat": 4,
 "nbformat_minor": 2
}
