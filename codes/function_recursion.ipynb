{
 "cells": [
  {
   "cell_type": "code",
   "execution_count": 1,
   "metadata": {},
   "outputs": [
    {
     "name": "stdout",
     "output_type": "stream",
     "text": [
      "====== Going to find the n-th root of a non-negative number ======\n",
      "\n",
      "Enter the number: 2\n",
      "Enter n (real > 0): 2\n",
      "guess = 1.000000 \t 1.000000^2 - 2.000000 = -1.000000\n",
      "guess = 1.500000 \t 1.500000^2.000000 - 2.000000 = 0.250000\n",
      "guess = 1.416667 \t 1.416667^2.000000 - 2.000000 = 0.006944\n",
      "guess = 1.414216 \t 1.414216^2.000000 - 2.000000 = 0.000006\n",
      "guess = 1.414214 \t 1.414214^2.000000 - 2.000000 = 0.000000\n",
      "guess = 1.414214 \t 1.414214^2.000000 - 2.000000 = 0.000000\n",
      "\n",
      "root = 1.41421356237\n",
      "converged after 5 iterations\n",
      "Tolerance = 1e-12\n"
     ]
    }
   ],
   "source": [
    "## REPETITIVE BLOCKS: ABSTRACTION THROUGH FUNCTIONS\n",
    "\n",
    "# finding roots of numbers\n",
    "\n",
    "def findRoot(number, n, printIter=False):\n",
    "    ''' This function finds n-th root of a non-negative number \n",
    "        MORE TEXT HERE\n",
    "    '''\n",
    "    \n",
    "    if n <= 0:\n",
    "        print 'must be a positive integer'\n",
    "        return None\n",
    "        \n",
    "    initialGuess = 1.0\n",
    "    maxIterations = 1e4\n",
    "    rootValue = initialGuess # initialization of the probable root\n",
    "    tolerance = 1e-12\n",
    "    count = 0\n",
    "    \n",
    "    deviation =  abs(rootValue**n - number)\n",
    "    \n",
    "    if printIter:\n",
    "        print 'guess = %.6f \\t %.6f^%d - %.6f = %.6f' % (rootValue, rootValue, n, number, (rootValue**n - number))\n",
    "\n",
    "    while deviation > tolerance and count < maxIterations:\n",
    "        \n",
    "        rootValue = rootValue - (rootValue**n - number) / (n * rootValue**(n-1))\n",
    "        deviation = abs(rootValue**n - number)\n",
    "        count += 1\n",
    "        \n",
    "        if printIter:\n",
    "            print 'guess = %.6f \\t %.6f^%f - %.6f = %.6f' % (rootValue, rootValue, n, number, (rootValue**n - number))\n",
    "        \n",
    "    if count >= maxIterations:\n",
    "        print '\\nNR method did not converge after', maxIterations, 'iterations'\n",
    "        print 'Tolerance =', tolerance\n",
    "    else:\n",
    "        print '\\nroot =', rootValue\n",
    "        if printIter: \n",
    "            print 'converged after', count, 'iterations'\n",
    "            print 'Tolerance =', tolerance\n",
    "        return rootValue\n",
    "            \n",
    "    \n",
    "        \n",
    "print '====== Going to find the n-th root of a non-negative number ======'\n",
    "number = input('\\nEnter the number: ')\n",
    "n = input('Enter n (real > 0): ')\n",
    "\n",
    "answer = findRoot(number, n, printIter=True)"
   ]
  },
  {
   "cell_type": "code",
   "execution_count": 2,
   "metadata": {},
   "outputs": [],
   "source": [
    "findRoot?"
   ]
  },
  {
   "cell_type": "code",
   "execution_count": 3,
   "metadata": {},
   "outputs": [
    {
     "name": "stdout",
     "output_type": "stream",
     "text": [
      "Enter the text to check palindrome: Was It A Rat I Saw?\n",
      "  calling isPalindrome with wasitaratisaw\n",
      "   calling isPalindrome with asitaratisa\n",
      "    calling isPalindrome with sitaratis\n",
      "     calling isPalindrome with itarati\n",
      "      calling isPalindrome with tarat\n",
      "       calling isPalindrome with ara\n",
      "        calling isPalindrome with r\n",
      "        recursion ends\n",
      "\n",
      "Was It A Rat I Saw? \t IS a palindrome!\n"
     ]
    }
   ],
   "source": [
    "# FUNCTION CALLING ITSELF: RECURSION\n",
    "\n",
    "# PALINDROME CHECKING\n",
    "\n",
    "def isPalindrome(s, indent=' '):\n",
    "    print indent + ' calling isPalindrome with ' + s\n",
    "    if len(s) <= 1: \n",
    "        print indent + ' recursion ends'\n",
    "        return True\n",
    "    elif s[0] == s[-1]:         \n",
    "        return isPalindrome(s[1:-1], ' ' + indent)\n",
    "    else: \n",
    "        print indent + ' check fails'       \n",
    "        return False\n",
    "       \n",
    "s = raw_input('Enter the text to check palindrome: ')\n",
    "z = s[:]\n",
    "s = s.lower()\n",
    "s = s.replace(' ','')\n",
    "s = s.replace(',','')\n",
    "s = s.replace('?','')\n",
    "s = s.replace('-','')\n",
    "s = s.replace('!','')\n",
    "s = s.replace('\\'','')\n",
    "\n",
    "\n",
    "## My picks\n",
    "#'Eva, Can I Stab Bats In A Cave?'\n",
    "#'A Man, A Plan, A Canal-Panama!'\n",
    "#'Madam In Eden, I'm Adam'\n",
    "#'Was It A Rat I Saw?'\n",
    "\n",
    "if isPalindrome(s):\n",
    "    print '\\n', z, '\\t IS a palindrome!'\n",
    "else:\n",
    "    print '\\n', z, '\\t is NOT a palindrome'"
   ]
  },
  {
   "cell_type": "code",
   "execution_count": null,
   "metadata": {},
   "outputs": [],
   "source": [
    "# exercise: code tower of Hanoi using recursion in python"
   ]
  }
 ],
 "metadata": {
  "kernelspec": {
   "display_name": "Python 2",
   "language": "python",
   "name": "python2"
  },
  "language_info": {
   "codemirror_mode": {
    "name": "ipython",
    "version": 2
   },
   "file_extension": ".py",
   "mimetype": "text/x-python",
   "name": "python",
   "nbconvert_exporter": "python",
   "pygments_lexer": "ipython2",
   "version": "2.7.12"
  }
 },
 "nbformat": 4,
 "nbformat_minor": 2
}
